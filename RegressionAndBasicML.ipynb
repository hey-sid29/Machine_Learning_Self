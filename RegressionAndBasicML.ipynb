{
 "cells": [
  {
   "cell_type": "code",
   "execution_count": 1,
   "id": "26eab1c0-7801-4cc7-8369-94ad9b4d7ed2",
   "metadata": {},
   "outputs": [
    {
     "name": "stdout",
     "output_type": "stream",
     "text": [
      "            Adj. Close    HL_PCT  PCT_change  Adj. Volume\n",
      "Date                                                     \n",
      "2004-08-19   50.322842  8.441017    0.324968   44659000.0\n",
      "2004-08-20   54.322689  8.537313    7.227007   22834300.0\n",
      "2004-08-23   54.869377  4.062357   -1.227880   18256100.0\n",
      "2004-08-24   52.597363  7.753210   -5.726357   15247300.0\n",
      "2004-08-25   53.164113  3.966115    1.183658    9188600.0\n"
     ]
    },
    {
     "name": "stderr",
     "output_type": "stream",
     "text": [
      "C:\\Users\\acer\\AppData\\Local\\Temp\\ipykernel_16676\\314541235.py:19: SettingWithCopyWarning: \n",
      "A value is trying to be set on a copy of a slice from a DataFrame.\n",
      "Try using .loc[row_indexer,col_indexer] = value instead\n",
      "\n",
      "See the caveats in the documentation: https://pandas.pydata.org/pandas-docs/stable/user_guide/indexing.html#returning-a-view-versus-a-copy\n",
      "  data1['HL_PCT']=( (data1['Adj. High']-data1['Adj. Low'])/data1['Adj. Low'] )* 100.0\n",
      "C:\\Users\\acer\\AppData\\Local\\Temp\\ipykernel_16676\\314541235.py:22: SettingWithCopyWarning: \n",
      "A value is trying to be set on a copy of a slice from a DataFrame.\n",
      "Try using .loc[row_indexer,col_indexer] = value instead\n",
      "\n",
      "See the caveats in the documentation: https://pandas.pydata.org/pandas-docs/stable/user_guide/indexing.html#returning-a-view-versus-a-copy\n",
      "  data1['PCT_change']=( (data1['Adj. Close']-data1['Adj. Open'])/data1['Adj. Open'] )* 100.0\n"
     ]
    }
   ],
   "source": [
    "\"\"\"The idea of regression is to take in continous data and draw a best fit line; \n",
    "which basically boils down into modelling your data\"\"\"\n",
    "\n",
    "\n",
    "#Basics Of Regression: 1\n",
    "\n",
    "\n",
    "import pandas as pd\n",
    "import quandl as ql\n",
    "data=ql.get('WIKI/GOOGL')\n",
    "#pd.set_option('display.max_columns', 12)\n",
    "#print(data.head())\n",
    "data1=data[['Adj. Open','Adj. High','Adj. Low','Adj. Close','Adj. Volume']]\n",
    "#Your first job for building a regressive model is to look for the datasets which have\n",
    "#relevant data or relation between datas; as in this case we dont need all the columns of the stock prices\n",
    "#we just need the relevent columns like Adjusted columns\n",
    "\n",
    "#print(data1.head())\n",
    "data1['HL_PCT']=( (data1['Adj. High']-data1['Adj. Low'])/data1['Adj. Low'] )* 100.0\n",
    "#HL_PCT= High to Low Percent change= (New Price(adj. high)- Old Price(adj. Low))/Old Price(adj. Low)*100.0\n",
    "\n",
    "data1['PCT_change']=( (data1['Adj. Close']-data1['Adj. Open'])/data1['Adj. Open'] )* 100.0\n",
    "#PCT_Change= Total Percent Change= \n",
    "# [(Closing Price of the day{Adj. CLose}-Opening Price for the day{Adj. Open})/Opening Price{Adj. Open}]*100.0\n",
    "data1=data1[['Adj. Close', 'HL_PCT', 'PCT_change', 'Adj. Volume']]\n",
    "print(data1.head())"
   ]
  },
  {
   "cell_type": "code",
   "execution_count": 2,
   "id": "ab5f4dc6-a166-4b57-acb5-0ac03d250819",
   "metadata": {},
   "outputs": [
    {
     "name": "stdout",
     "output_type": "stream",
     "text": [
      "            Adj. Close    HL_PCT  PCT_change  Adj. Volume  New Label\n",
      "Date                                                                \n",
      "2004-08-19   50.322842  8.441017    0.324968   44659000.0  69.078238\n",
      "2004-08-20   54.322689  8.537313    7.227007   22834300.0  67.839414\n",
      "2004-08-23   54.869377  4.062357   -1.227880   18256100.0  68.912727\n",
      "2004-08-24   52.597363  7.753210   -5.726357   15247300.0  70.668146\n",
      "2004-08-25   53.164113  3.966115    1.183658    9188600.0  71.219849 \n",
      "\n",
      "             Adj. Close    HL_PCT  PCT_change  Adj. Volume  New Label\n",
      "Date                                                                \n",
      "2018-01-30     1177.37  1.142604   -0.029718    1792602.0    1094.00\n",
      "2018-01-31     1182.22  1.213207   -0.134312    1643877.0    1053.15\n",
      "2018-02-01     1181.59  1.547000    0.476195    2774967.0    1026.55\n",
      "2018-02-02     1119.20  1.811604   -0.729098    5798880.0    1054.09\n",
      "2018-02-05     1068.76  5.512236   -2.893850    3742469.0    1006.94\n"
     ]
    },
    {
     "name": "stderr",
     "output_type": "stream",
     "text": [
      "C:\\Users\\acer\\AppData\\Local\\Temp\\ipykernel_16676\\1060203273.py:14: SettingWithCopyWarning: \n",
      "A value is trying to be set on a copy of a slice from a DataFrame.\n",
      "Try using .loc[row_indexer,col_indexer] = value instead\n",
      "\n",
      "See the caveats in the documentation: https://pandas.pydata.org/pandas-docs/stable/user_guide/indexing.html#returning-a-view-versus-a-copy\n",
      "  data1['HL_PCT']=( (data1['Adj. High']-data1['Adj. Low'])/data1['Adj. Low'] )* 100.0\n",
      "C:\\Users\\acer\\AppData\\Local\\Temp\\ipykernel_16676\\1060203273.py:15: SettingWithCopyWarning: \n",
      "A value is trying to be set on a copy of a slice from a DataFrame.\n",
      "Try using .loc[row_indexer,col_indexer] = value instead\n",
      "\n",
      "See the caveats in the documentation: https://pandas.pydata.org/pandas-docs/stable/user_guide/indexing.html#returning-a-view-versus-a-copy\n",
      "  data1['PCT_change']=( (data1['Adj. Close']-data1['Adj. Open'])/data1['Adj. Open'] )* 100.0\n",
      "C:\\Users\\acer\\AppData\\Local\\Temp\\ipykernel_16676\\1060203273.py:17: SettingWithCopyWarning: \n",
      "A value is trying to be set on a copy of a slice from a DataFrame\n",
      "\n",
      "See the caveats in the documentation: https://pandas.pydata.org/pandas-docs/stable/user_guide/indexing.html#returning-a-view-versus-a-copy\n",
      "  data1.fillna(-99999, inplace=True)\n",
      "C:\\Users\\acer\\AppData\\Local\\Temp\\ipykernel_16676\\1060203273.py:20: SettingWithCopyWarning: \n",
      "A value is trying to be set on a copy of a slice from a DataFrame.\n",
      "Try using .loc[row_indexer,col_indexer] = value instead\n",
      "\n",
      "See the caveats in the documentation: https://pandas.pydata.org/pandas-docs/stable/user_guide/indexing.html#returning-a-view-versus-a-copy\n",
      "  data1['New Label']=data1[forecast_col].shift(-forecast_out)\n",
      "C:\\Users\\acer\\AppData\\Local\\Temp\\ipykernel_16676\\1060203273.py:21: SettingWithCopyWarning: \n",
      "A value is trying to be set on a copy of a slice from a DataFrame\n",
      "\n",
      "See the caveats in the documentation: https://pandas.pydata.org/pandas-docs/stable/user_guide/indexing.html#returning-a-view-versus-a-copy\n",
      "  data1.dropna(inplace=True)\n"
     ]
    },
    {
     "data": {
      "text/plain": [
       "'Basic Regressive Model^^'"
      ]
     },
     "execution_count": 2,
     "metadata": {},
     "output_type": "execute_result"
    }
   ],
   "source": [
    "\"\"\"Regression: Features and labels\n",
    "    - Features: Are the input variables. X in regression\n",
    "    - Labels: Are the values which we are Predicting. In Regression the Y-variable\"\"\"\n",
    "\n",
    "\n",
    "#Regression setting out basic Features and Labels:\n",
    "\n",
    "\n",
    "import math\n",
    "import pandas as pd\n",
    "import quandl as ql\n",
    "data=ql.get('WIKI/GOOGL')\n",
    "data1=data[['Adj. Open','Adj. High','Adj. Low','Adj. Close','Adj. Volume']]\n",
    "data1['HL_PCT']=( (data1['Adj. High']-data1['Adj. Low'])/data1['Adj. Low'] )* 100.0\n",
    "data1['PCT_change']=( (data1['Adj. Close']-data1['Adj. Open'])/data1['Adj. Open'] )* 100.0\n",
    "data1=data1[['Adj. Close', 'HL_PCT', 'PCT_change', 'Adj. Volume']]\n",
    "data1.fillna(-99999, inplace=True)\n",
    "forecast_col='Adj. Close' #Just a variable to help out the forecast(prediction)\n",
    "forecast_out=math.ceil(0.01*len(data1))\n",
    "data1['New Label']=data1[forecast_col].shift(-forecast_out)\n",
    "data1.dropna(inplace=True)\n",
    "print(data1.head(5), '\\n\\n', data1.tail(5))\n",
    "\n",
    "\"\"\"Basic Regressive Model^^\"\"\""
   ]
  },
  {
   "cell_type": "markdown",
   "id": "6aa1d65d-8b2d-4015-880f-0ebeb3a6e61d",
   "metadata": {
    "tags": []
   },
   "source": [
    "##### Regression: Training and Testing the data"
   ]
  },
  {
   "cell_type": "code",
   "execution_count": 3,
   "id": "21167fe2-6b72-49de-baac-cee9dd78a3ef",
   "metadata": {},
   "outputs": [
    {
     "name": "stdout",
     "output_type": "stream",
     "text": [
      "0.9780189256960619\n"
     ]
    }
   ],
   "source": [
    "import math, quandl\n",
    "import pandas as pd\n",
    "import numpy as np\n",
    "from sklearn.linear_model import LinearRegression\n",
    "from sklearn.model_selection import train_test_split\n",
    "from sklearn import svm, preprocessing\n",
    "#Importing all necessary libraries\n",
    "\n",
    "#Data Source for ML: Quandl.com; stocks of google\n",
    "\n",
    "df = quandl.get('WIKI/GOOGL')\n",
    "#print(df.head(5))\n",
    "\n",
    "df= df[['Adj. Open','Adj. High','Adj. Low','Adj. Close','Adj. Volume']]\n",
    "df['HL_PCT']= ( (df['Adj. High']-df['Adj. Low'])/df['Adj. Low']) * 100.0\n",
    "df['PCT_Change']= ((df['Adj. Close']-df['Adj. Open'])/df['Adj. Open']) * 100.0\n",
    "\n",
    "df= df[['Adj. Close', 'HL_PCT', 'PCT_Change', 'Adj. Volume']]\n",
    "df.fillna(value=-9999, inplace=True)\n",
    "forecast_col= 'Adj. Close'\n",
    "forecast_out= int(math.ceil(0.01* len(df)))\n",
    "\n",
    "df['Label']= df[forecast_col].shift(-forecast_out)\n",
    "df.dropna(inplace=True)\n",
    "#print(df.head())\n",
    "\n",
    "#In training and testing: 'X' denotes the Features and, 'y' denotes the labels\n",
    "\n",
    "X= np.array(df.drop(['Label'], axis=1))   #X would consist of all the meaningful data thats necessary for prediction\n",
    "y= np.array(df['Label'].values)\n",
    "\n",
    "X= preprocessing.scale(X)\n",
    "\n",
    "X_train, X_test, y_train, y_test= train_test_split(X,y, test_size=0.3)  #Preparing our train and test data\n",
    "\n",
    "#We are not keeping the test size for train data as -forecast_out because we already shifted the data acc to it\n",
    "#Same for test data as the main df was shifted by the size of -forecast_out\n",
    "\n",
    "clf= LinearRegression(n_jobs=-1) #Preparing our 1st Regression model\n",
    "#For note purposes: LinearRegression can be threaded simply: \n",
    "#n_jobs parameter will set the threading values\n",
    "#setting n_jobs=-1 implies that we are runnig all jobs that can be done by our CPU \n",
    "#threading= is the process of completing as many jobs possible by CPU's cores\n",
    "#Threading is simple for LR and can be run on massive datasets but its not simple as for Support Vector Machines\n",
    "\n",
    "\n",
    "\n",
    "\n",
    "clf.fit(X_train, y_train) #training the classifier \n",
    "\n",
    "accuracy = clf.score(X_test, y_test) #checking accuracy\n",
    "print(accuracy)\n"
   ]
  },
  {
   "cell_type": "markdown",
   "id": "0ff25f04-c165-4d19-b589-b9c8d15237a2",
   "metadata": {},
   "source": [
    "##### So our classifier's accuracy is: 97.7%"
   ]
  },
  {
   "cell_type": "code",
   "execution_count": 4,
   "id": "7f3b3883-c139-4ac9-a552-cc786f97c045",
   "metadata": {},
   "outputs": [
    {
     "name": "stdout",
     "output_type": "stream",
     "text": [
      "Result for kernel=rbf: 0.9780189256960619\n",
      "Result for kernel=poly: 0.9780189256960619\n",
      "Result for kernel=linear: 0.9780189256960619\n",
      "Result for kernel=sigmoid: 0.9780189256960619\n"
     ]
    }
   ],
   "source": [
    "#Another approach to the problem using SVR[Support Vector Regression]\n",
    "\n",
    "\n",
    "from sklearn import svm\n",
    "\n",
    "for kernel in ['rbf', 'poly', 'linear', 'sigmoid']:\n",
    "    clf1= svm.SVR(kernel=kernel)\n",
    "    clf.fit(X_train, y_train)\n",
    "    acc= clf.score(X_test, y_test)\n",
    "    print(f'Result for kernel={kernel}:', acc)"
   ]
  },
  {
   "cell_type": "markdown",
   "id": "df7169ea-3362-4ec7-9b17-65adecd06541",
   "metadata": {},
   "source": [
    "## Always keep the Sklearn docs beside you while working as we cannot ignore some of the params, as they might be helpful later on"
   ]
  },
  {
   "cell_type": "markdown",
   "id": "0413c04b-3392-42b2-b09f-0a84455b1ea2",
   "metadata": {},
   "source": [
    "### Regression: Forecasting and Predicting:"
   ]
  },
  {
   "cell_type": "code",
   "execution_count": 8,
   "id": "02efea09-96fd-4e2b-9179-864d3cdf1886",
   "metadata": {},
   "outputs": [
    {
     "data": {
      "image/png": "[encoded data removed]",
      "text/plain": [
       "<Figure size 432x288 with 1 Axes>"
      ]
     },
     "metadata": {},
     "output_type": "display_data"
    }
   ],
   "source": [
    "import math, quandl, datetime\n",
    "import pandas as pd\n",
    "import numpy as np\n",
    "from sklearn.linear_model import LinearRegression\n",
    "from sklearn.model_selection import train_test_split\n",
    "from sklearn import svm, preprocessing\n",
    "import matplotlib.pyplot as plt\n",
    "from matplotlib import style\n",
    "#Importing all necessary libraries\n",
    "style.use('ggplot')\n",
    "#Data Source for ML: Quandl.com; stocks of google\n",
    "\n",
    "df = quandl.get('WIKI/GOOGL')\n",
    "#print(df.head(5))\n",
    "\n",
    "df= df[['Adj. Open','Adj. High','Adj. Low','Adj. Close','Adj. Volume']]\n",
    "df['HL_PCT']= ( (df['Adj. High']-df['Adj. Low'])/df['Adj. Low']) * 100.0\n",
    "df['PCT_Change']= ((df['Adj. Close']-df['Adj. Open'])/df['Adj. Open']) * 100.0\n",
    "\n",
    "df= df[['Adj. Close', 'HL_PCT', 'PCT_Change', 'Adj. Volume']]\n",
    "df.fillna(value=-9999, inplace=True)\n",
    "forecast_col= 'Adj. Close'\n",
    "forecast_out= int(math.ceil(0.01* len(df)))\n",
    "\n",
    "df['Label']= df[forecast_col].shift(-forecast_out)\n",
    "df.dropna(inplace=True)\n",
    "#print(df.head())\n",
    "\n",
    "#In training and testing: 'X' denotes the Features and, 'y' denotes the labels\n",
    "\n",
    "X=np.array( df.drop(['Label'], axis=1) )  #X would consist of all the meaningful data thats necessary for prediction\n",
    "\n",
    "X= preprocessing.scale(X)   #Scaling data is helpful for short amount of datasets\n",
    "\n",
    "X_lately=X[-forecast_out:]\n",
    "#X=X[:-forecast_out]\n",
    "\n",
    "df.dropna(inplace=True)\n",
    "\n",
    "\n",
    "\n",
    "y= np.array(df['Label'].values)\n",
    "#y= df['Label']\n",
    "\n",
    "\n",
    "\n",
    "X_train, X_test, y_train, y_test= train_test_split(X,y, test_size=0.2)  #Preparing our train and test data\n",
    "\n",
    "#We are not keeping the test size for train data as -forecast_out because we already shifted the data acc to it\n",
    "#Same for test data as the main df was shifted by the size of -forecast_out\n",
    "\n",
    "clf= LinearRegression(n_jobs=-1) #Preparing our 1st Regression model\n",
    "#For note purposes: LinearRegression can be threaded simply: \n",
    "#n_jobs parameter will set the threading values\n",
    "#setting n_jobs=-1 implies that we are runnig all jobs that can be done by our CPU \n",
    "#threading= is the process of completing as many jobs possible by CPU's cores\n",
    "#Threading is simple for LR and can be run on massive datasets but its not simple as for Support Vector Machines\n",
    "\n",
    "\n",
    "\n",
    "\n",
    "clf.fit(X_train, y_train) #training the classifier \n",
    "\n",
    "accuracy = clf.score(X_test, y_test) #checking accuracy\n",
    "\n",
    "forecast_set= clf.predict(X_lately)  #predicting the prices using the values of X from the forecast_out\n",
    "\n",
    "#print(forecast_set, accuracy, forecast_col)\n",
    "\n",
    "\n",
    "#Hard coding all the days for prediction values\n",
    "\n",
    "df['Forecast']= np.nan\n",
    "last_date= df.iloc[-1].name\n",
    "last_unix= last_date.timestamp()\n",
    "one_day=86400   #Number of hrs in one day\n",
    "next_unix= last_unix+one_day\n",
    "\n",
    "#Populating the dataframe with values from forecast_set\n",
    "\n",
    "for i in forecast_set:\n",
    "    next_date= datetime.datetime.fromtimestamp(next_unix)\n",
    "    next_unix+=one_day\n",
    "    df.loc[next_date]=[np.nan for _ in range(len(df.columns)-1)] + [i]\n",
    "    \n",
    "    \n",
    "## Explanation for the for loop:\n",
    "\"\"\"next_date will store the dates generated from next_unix,\n",
    "    now next_unix is updated by every one day value\n",
    "    now the next_date valued column is firstly filled with np.nan values which gets replaced by the [i] which \n",
    "    is each element in the forecast_set\"\"\"\n",
    "\n",
    "#Plotting A Plot for the predicted prices\n",
    "\n",
    "df['Adj. Close'].plot()\n",
    "df['Forecast'].plot()\n",
    "plt.legend(loc='lower right')\n",
    "plt.xlabel(\"Dates\")\n",
    "plt.ylabel(\"Prices\")\n",
    "plt.savefig(\"Stock_Predict.png\")\n",
    "plt.show()\n"
   ]
  },
  {
   "cell_type": "code",
   "execution_count": null,
   "id": "3426fee2-6350-4b37-8c9c-d9c3a142f20f",
   "metadata": {},
   "outputs": [],
   "source": []
  },
  {
   "cell_type": "code",
   "execution_count": null,
   "id": "624d4ff9-5f8f-4040-97bc-ba37bf01acff",
   "metadata": {},
   "outputs": [],
   "source": []
  },
  {
   "cell_type": "code",
   "execution_count": null,
   "id": "d5fd59b2-ac6b-4769-87ab-be1565a1729e",
   "metadata": {},
   "outputs": [],
   "source": []
  },
  {
   "cell_type": "code",
   "execution_count": null,
   "id": "405b8ae2-fffd-483f-b6a6-e24d7220cb0d",
   "metadata": {},
   "outputs": [],
   "source": []
  },
  {
   "cell_type": "code",
   "execution_count": null,
   "id": "560b6b8b-0dc7-4d03-89fd-587e4af42235",
   "metadata": {},
   "outputs": [],
   "source": []
  },
  {
   "cell_type": "code",
   "execution_count": null,
   "id": "241cd3a2-d179-4576-9931-3d5b8fa9a01c",
   "metadata": {},
   "outputs": [],
   "source": []
  },
  {
   "cell_type": "code",
   "execution_count": null,
   "id": "18d20cc1-60b8-4536-ae9d-56e36354bed8",
   "metadata": {},
   "outputs": [],
   "source": []
  },
  {
   "cell_type": "code",
   "execution_count": null,
   "id": "8f20c36b-4c2d-4863-b3e0-eabd6d8cbc2f",
   "metadata": {},
   "outputs": [],
   "source": []
  },
  {
   "cell_type": "code",
   "execution_count": null,
   "id": "32318f7a-5445-41c0-9d69-fa4790c8a3d4",
   "metadata": {},
   "outputs": [],
   "source": []
  }
 ],
 "metadata": {
  "kernelspec": {
   "display_name": "Python 3 (ipykernel)",
   "language": "python",
   "name": "python3"
  },
  "language_info": {
   "codemirror_mode": {
    "name": "ipython",
    "version": 3
   },
   "file_extension": ".py",
   "mimetype": "text/x-python",
   "name": "python",
   "nbconvert_exporter": "python",
   "pygments_lexer": "ipython3",
   "version": "3.8.8rc1"
  }
 },
 "nbformat": 4,
 "nbformat_minor": 5
}
